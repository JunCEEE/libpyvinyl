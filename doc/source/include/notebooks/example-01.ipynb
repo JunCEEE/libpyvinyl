{
 "cells": [
  {
   "cell_type": "markdown",
   "metadata": {},
   "source": [
    "# Demo of the pyvinyl API "
   ]
  },
  {
   "cell_type": "markdown",
   "source": [
    "## Imports "
   ],
   "metadata": {
    "collapsed": false
   }
  },
  {
   "cell_type": "code",
   "execution_count": null,
   "outputs": [],
   "source": [
    "from libpyvinyl.BaseCalculator import BaseCalculator, Parameters\n",
    "import os\n",
    "import h5py\n",
    "import numpy"
   ],
   "metadata": {
    "collapsed": false,
    "pycharm": {
     "name": "#%%\n"
    }
   }
  },
  {
   "cell_type": "markdown",
   "source": [
    "## Implement a Calculator that derives from `BaseCalculator`."
   ],
   "metadata": {
    "collapsed": false,
    "pycharm": {
     "name": "#%% md\n"
    }
   }
  },
  {
   "cell_type": "code",
   "execution_count": 27,
   "outputs": [],
   "source": [
    "from libpyvinyl.BaseCalculator import BaseCalculator, Parameters\n",
    "import numpy\n",
    "import h5py\n",
    "import sys"
   ],
   "metadata": {
    "collapsed": false,
    "pycharm": {
     "name": "#%%\n"
    }
   }
  },
  {
   "cell_type": "code",
   "execution_count": 30,
   "outputs": [],
   "source": [
    "sys.path.insert(0,'../../../../tests')\n",
    "\n",
    "from RandomImageCalculator import RandomImageCalculator"
   ],
   "metadata": {
    "collapsed": false,
    "pycharm": {
     "name": "#%%\n"
    }
   }
  },
  {
   "cell_type": "code",
   "execution_count": null,
   "outputs": [],
   "source": [
    "class RandomImageCalculatorNB(BaseCalculator):\n",
    "    \"\"\" class: Implements simulation of a rondom image for demonstration purposes. \"\"\"\n",
    "    def __init__(self, parameters=None, dumpfile=None, input_path=None, output_path=None):\n",
    "        \"\"\" Constructor of the RandomImageCalculator class. \"\"\"\n",
    "        super().__init__(parameters=parameters, dumpfile=dumpfile, output_path=output_path)\n",
    "\n",
    "    def backengine(self):\n",
    "        \"\"\" Method to do the actual calculation.\"\"\"\n",
    "        tmpdata = numpy.random.random((self.parameters.grid_size_x, self.parameters.grid_size_y))\n",
    "\n",
    "        self._set_data(tmpdata)\n",
    "        return 0\n",
    "\n",
    "    def saveH5(self, openpmd=False):\n",
    "        \"\"\" Save image to hdf5 file 'output_path'. \"\"\"\n",
    "        with h5py.File(self.output_path, \"w\") as h5:\n",
    "            ds = h5.create_dataset(\"/data\", data=self.data)\n",
    "\n",
    "            h5.close()\n",
    "\n"
   ],
   "metadata": {
    "collapsed": false,
    "pycharm": {
     "name": "#%%\n"
    }
   }
  },
  {
   "cell_type": "markdown",
   "metadata": {},
   "source": [
    "### Setup the parameters"
   ]
  },
  {
   "cell_type": "code",
   "execution_count": 31,
   "metadata": {},
   "outputs": [],
   "source": [
    "parameters = Parameters(photon_energy=6e3, pulse_energy=1.0e-6, grid_size_x=128, grid_size_y=128)"
   ]
  },
  {
   "cell_type": "markdown",
   "source": [
    "### Setup the calculator"
   ],
   "metadata": {
    "collapsed": false
   }
  },
  {
   "cell_type": "code",
   "execution_count": 32,
   "outputs": [],
   "source": [
    "calculator  = RandomImageCalculator(parameters, output_path=\"out.h5\")"
   ],
   "metadata": {
    "collapsed": false,
    "pycharm": {
     "name": "#%%\n"
    }
   }
  },
  {
   "cell_type": "markdown",
   "source": [
    "### Run the backengine"
   ],
   "metadata": {
    "collapsed": false
   }
  },
  {
   "cell_type": "code",
   "execution_count": 33,
   "outputs": [
    {
     "data": {
      "text/plain": "0"
     },
     "execution_count": 33,
     "metadata": {},
     "output_type": "execute_result"
    }
   ],
   "source": [
    "calculator.backengine()"
   ],
   "metadata": {
    "collapsed": false,
    "pycharm": {
     "name": "#%%\n"
    }
   }
  },
  {
   "cell_type": "markdown",
   "source": [
    "### Look at the data and store as hdf5"
   ],
   "metadata": {
    "collapsed": false
   }
  },
  {
   "cell_type": "code",
   "execution_count": 34,
   "outputs": [
    {
     "data": {
      "text/plain": "array([[0.07471297, 0.00703423, 0.92835525, ..., 0.83050226, 0.93011749,\n        0.10575778],\n       [0.30465388, 0.36400513, 0.48903381, ..., 0.0438568 , 0.39087367,\n        0.97940832],\n       [0.61994805, 0.84566645, 0.42535347, ..., 0.94919735, 0.17939005,\n        0.74872113],\n       ...,\n       [0.22103305, 0.07844426, 0.8127275 , ..., 0.4273249 , 0.78210725,\n        0.59653636],\n       [0.00889755, 0.40566176, 0.33960702, ..., 0.2634355 , 0.34068678,\n        0.99275201],\n       [0.99495603, 0.18621833, 0.25057866, ..., 0.33598942, 0.10660242,\n        0.20565293]])"
     },
     "execution_count": 34,
     "metadata": {},
     "output_type": "execute_result"
    }
   ],
   "source": [
    "calculator.data"
   ],
   "metadata": {
    "collapsed": false,
    "pycharm": {
     "name": "#%%\n"
    }
   }
  },
  {
   "cell_type": "code",
   "execution_count": 35,
   "outputs": [],
   "source": [
    "calculator.saveH5(calculator.output_path)"
   ],
   "metadata": {
    "collapsed": false,
    "pycharm": {
     "name": "#%%\n"
    }
   }
  },
  {
   "cell_type": "markdown",
   "source": [
    "### Save the parameters to a human readable json file."
   ],
   "metadata": {
    "collapsed": false
   }
  },
  {
   "cell_type": "code",
   "execution_count": 36,
   "outputs": [],
   "source": [
    "parameters.to_json(\"my_parameters.json\")"
   ],
   "metadata": {
    "collapsed": false,
    "pycharm": {
     "name": "#%%\n"
    }
   }
  },
  {
   "cell_type": "markdown",
   "source": [
    "### Save calculator to binary dump."
   ],
   "metadata": {
    "collapsed": false
   }
  },
  {
   "cell_type": "code",
   "execution_count": 37,
   "outputs": [],
   "source": [
    "dumpfile = calculator.dump()"
   ],
   "metadata": {
    "collapsed": false,
    "pycharm": {
     "name": "#%%\n"
    }
   }
  },
  {
   "cell_type": "markdown",
   "source": [
    "### Load back parameters"
   ],
   "metadata": {
    "collapsed": false
   }
  },
  {
   "cell_type": "code",
   "execution_count": 38,
   "outputs": [
    {
     "data": {
      "text/plain": "6000.0"
     },
     "execution_count": 38,
     "metadata": {},
     "output_type": "execute_result"
    }
   ],
   "source": [
    "new_parameters = Parameters.from_json(\"my_parameters.json\")"
   ],
   "metadata": {
    "collapsed": false,
    "pycharm": {
     "name": "#%%\n"
    }
   }
  },
  {
   "cell_type": "markdown",
   "source": [
    "### Look ath the photon energy of the restored parameters."
   ],
   "metadata": {
    "collapsed": false,
    "pycharm": {
     "name": "#%% md\n"
    }
   }
  },
  {
   "cell_type": "code",
   "execution_count": null,
   "outputs": [],
   "source": [
    "new_parameters.photon_energy"
   ],
   "metadata": {
    "collapsed": false,
    "pycharm": {
     "name": "#%%\n"
    }
   }
  },
  {
   "cell_type": "markdown",
   "source": [
    "### Reconstruct the dumped calculator."
   ],
   "metadata": {
    "collapsed": false,
    "pycharm": {
     "name": "#%% md\n"
    }
   }
  },
  {
   "cell_type": "code",
   "execution_count": null,
   "outputs": [],
   "source": [
    "reloaded_calculator = RandomImageCalculator(dumpfile=dumpfile)"
   ],
   "metadata": {
    "collapsed": false,
    "pycharm": {
     "name": "#%%\n"
    }
   }
  },
  {
   "cell_type": "markdown",
   "source": [
    "### Query the data from the  reconstructed calculator."
   ],
   "metadata": {
    "collapsed": false,
    "pycharm": {
     "name": "#%% md\n"
    }
   }
  },
  {
   "cell_type": "code",
   "execution_count": null,
   "outputs": [],
   "source": [
    "reloaded_calculator.data"
   ],
   "metadata": {
    "collapsed": false,
    "pycharm": {
     "name": "#%%\n"
    }
   }
  },
  {
   "cell_type": "markdown",
   "source": [
    "### Look at the photon energy of the reconstructed calculator."
   ],
   "metadata": {
    "collapsed": false,
    "pycharm": {
     "name": "#%% md\n"
    }
   }
  },
  {
   "cell_type": "code",
   "execution_count": 39,
   "outputs": [
    {
     "data": {
      "text/plain": "6000.0"
     },
     "execution_count": 39,
     "metadata": {},
     "output_type": "execute_result"
    }
   ],
   "source": [
    "reloaded_calculator.parameters.photon_energy\n"
   ],
   "metadata": {
    "collapsed": false,
    "pycharm": {
     "name": "#%%\n"
    }
   }
  },
  {
   "cell_type": "code",
   "execution_count": null,
   "outputs": [],
   "source": [],
   "metadata": {
    "collapsed": false,
    "pycharm": {
     "name": "#%%\n"
    }
   }
  }
 ],
 "metadata": {
  "kernelspec": {
   "name": "pycharm-44f7cfec",
   "language": "python",
   "display_name": "PyCharm (libpyvinyl)"
  },
  "language_info": {
   "codemirror_mode": {
    "name": "ipython",
    "version": 3
   },
   "file_extension": ".py",
   "mimetype": "text/x-python",
   "name": "python",
   "nbconvert_exporter": "python",
   "pygments_lexer": "ipython3",
   "version": "3.8.5"
  }
 },
 "nbformat": 4,
 "nbformat_minor": 4
}