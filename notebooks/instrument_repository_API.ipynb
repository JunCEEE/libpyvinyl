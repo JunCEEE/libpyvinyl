{
 "cells": [
  {
   "cell_type": "code",
   "execution_count": 4,
   "metadata": {},
   "outputs": [],
   "source": [
    "import sys"
   ]
  },
  {
   "cell_type": "code",
   "execution_count": 5,
   "metadata": {},
   "outputs": [],
   "source": [
    "sys.path.append('../libpyvinyl/')"
   ]
  },
  {
   "cell_type": "code",
   "execution_count": 6,
   "metadata": {},
   "outputs": [],
   "source": [
    "from Instrument import repository"
   ]
  },
  {
   "cell_type": "markdown",
   "metadata": {},
   "source": [
    "## Load the default repo"
   ]
  },
  {
   "cell_type": "code",
   "execution_count": 7,
   "metadata": {},
   "outputs": [
    {
     "name": "stdout",
     "output_type": "stream",
     "text": [
      "https://github.com/PaNOSC-ViNYL/instrument_database.git\n",
      "/tmp/tmp0xnbbivw:\n",
      "LICENSE\n",
      "README.md\n"
     ]
    }
   ],
   "source": [
    "instr_repo = repository()\n",
    "print(instr_repo.url)\n",
    "instr_repo.ls_files()"
   ]
  },
  {
   "cell_type": "markdown",
   "metadata": {},
   "source": [
    "## Load one branch of the default repo"
   ]
  },
  {
   "cell_type": "code",
   "execution_count": 8,
   "metadata": {},
   "outputs": [
    {
     "name": "stdout",
     "output_type": "stream",
     "text": [
      "/tmp/tmpnzjlvz4h:\n",
      "LICENSE\n",
      "mcstas\n",
      "README.md\n"
     ]
    }
   ],
   "source": [
    "instr_repo_shervin = instr_repo.switch_branch('shervin')\n",
    "instr_repo = repository(branch='shervin')\n",
    "instr_repo.ls_files()"
   ]
  },
  {
   "cell_type": "code",
   "execution_count": 9,
   "metadata": {},
   "outputs": [
    {
     "name": "stdout",
     "output_type": "stream",
     "text": [
      "/tmp/tmpnzjlvz4h/mcstas:\n",
      "ILL\n",
      "components\n",
      "scripts\n",
      "CMakeLists.txt\n",
      "requirements.txt\n"
     ]
    }
   ],
   "source": [
    "instr_repo.ls_files('mcstas')"
   ]
  }
 ],
 "metadata": {
  "kernelspec": {
   "display_name": "Python [conda env:wpg3]",
   "language": "python",
   "name": "conda-env-wpg3-py"
  },
  "language_info": {
   "codemirror_mode": {
    "name": "ipython",
    "version": 3
   },
   "file_extension": ".py",
   "mimetype": "text/x-python",
   "name": "python",
   "nbconvert_exporter": "python",
   "pygments_lexer": "ipython3",
   "version": "3.8.2"
  }
 },
 "nbformat": 4,
 "nbformat_minor": 2
}
