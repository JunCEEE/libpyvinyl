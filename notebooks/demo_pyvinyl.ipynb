{
 "cells": [
  {
   "cell_type": "markdown",
   "source": [
    "# Demo of the pyvinyl API "
   ],
   "metadata": {}
  },
  {
   "cell_type": "markdown",
   "source": [
    "## Imports "
   ],
   "metadata": {}
  },
  {
   "cell_type": "code",
   "execution_count": 1,
   "source": [
    "%load_ext autoreload"
   ],
   "outputs": [],
   "metadata": {}
  },
  {
   "cell_type": "code",
   "execution_count": 2,
   "source": [
    "%autoreload 2"
   ],
   "outputs": [],
   "metadata": {}
  },
  {
   "cell_type": "code",
   "execution_count": 15,
   "source": [
    "from libpyvinyl.BaseCalculator import BaseCalculator, Parameters, SpecializedCalculator\n",
    "\n",
    "import os\n",
    "import h5py\n",
    "import numpy"
   ],
   "outputs": [],
   "metadata": {}
  },
  {
   "cell_type": "code",
   "execution_count": 4,
   "source": [
    "import sys"
   ],
   "outputs": [],
   "metadata": {}
  },
  {
   "cell_type": "code",
   "execution_count": 5,
   "source": [
    "sys.path.insert(0, '../tests/')"
   ],
   "outputs": [],
   "metadata": {}
  },
  {
   "cell_type": "code",
   "execution_count": 10,
   "source": [
    "from RandomImageCalculator import RandomImageCalculator"
   ],
   "outputs": [],
   "metadata": {}
  },
  {
   "cell_type": "markdown",
   "source": [
    "## User interface "
   ],
   "metadata": {}
  },
  {
   "cell_type": "code",
   "execution_count": 11,
   "source": [
    "calculator  = RandomImageCalculator(output_path=\"out.h5\")"
   ],
   "outputs": [],
   "metadata": {}
  },
  {
   "cell_type": "markdown",
   "source": [
    "### Setup the parameters"
   ],
   "metadata": {}
  },
  {
   "cell_type": "code",
   "execution_count": 18,
   "source": [
    "### Setup the calculator params\n",
    "\n",
    "calculator.setParams()\n",
    "\n",
    "### Run the backengine\n",
    "\n",
    "calculator.backengine()\n",
    "\n",
    "### Look at the data and store as hdf5\n",
    "\n",
    "calculator.data\n",
    "\n",
    "calculator._BaseCalculator__data\n",
    "\n",
    "calculator.saveH5(calculator.output_path)\n",
    "\n",
    "### Save the parameters to a human readable json file.\n",
    "\n",
    "calculator.parameters.to_json(\"my_parameters.json\")\n",
    "\n",
    "### Save calculator to binary dump.\n",
    "\n",
    "dumpfile = calculator.dump()\n",
    "\n",
    "### Load back parameters\n",
    "\n",
    "new_parameters = Parameters.from_json(\"my_parameters.json\")\n",
    "\n",
    "print('grid_size_x:', new_parameters['grid_size_x'])\n",
    "print('grid_size_x:', new_parameters['grid_size_x'])\n",
    "\n",
    "reloaded_calculator = SpecializedCalculator(dumpfile=dumpfile)\n",
    "\n",
    "reloaded_calculator.data\n",
    "\n",
    "print('grid_size_x:', reloaded_calculator.parameters['grid_size_x'])\n",
    "print('grid_size_x:', reloaded_calculator.parameters['grid_size_x'])"
   ],
   "outputs": [
    {
     "output_type": "stream",
     "name": "stdout",
     "text": [
      "grid_size_x: Parameter named: 'grid_size_x' with value: 128\n",
      "\n",
      "grid_size_x: Parameter named: 'grid_size_x' with value: 128\n",
      "\n",
      "grid_size_x: Parameter named: 'grid_size_x' with value: 128\n",
      "\n",
      "grid_size_x: Parameter named: 'grid_size_x' with value: 128\n",
      "\n"
     ]
    }
   ],
   "metadata": {}
  }
 ],
 "metadata": {
  "kernelspec": {
   "name": "python3",
   "display_name": "Python 3.8.10 64-bit ('SimEx-Lite': conda)"
  },
  "language_info": {
   "name": "python",
   "version": "3.7.8",
   "mimetype": "text/x-python",
   "codemirror_mode": {
    "name": "ipython",
    "version": 3
   },
   "pygments_lexer": "ipython3",
   "nbconvert_exporter": "python",
   "file_extension": ".py"
  },
  "interpreter": {
   "hash": "1ebcb5ce9928518081d97f4b084470ecc3595de5a529f9bfa031f01abf4d1939"
  }
 },
 "nbformat": 4,
 "nbformat_minor": 4
}