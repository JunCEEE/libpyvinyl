{
 "cells": [
  {
   "cell_type": "markdown",
   "metadata": {},
   "source": [
    "# Demo of the pyvinyl API "
   ]
  },
  {
   "cell_type": "markdown",
   "metadata": {},
   "source": [
    "## Imports "
   ]
  },
  {
   "cell_type": "code",
   "execution_count": 36,
   "metadata": {},
   "outputs": [],
   "source": [
    "%load_ext autoreload"
   ]
  },
  {
   "cell_type": "code",
   "execution_count": 37,
   "metadata": {},
   "outputs": [],
   "source": [
    "%autoreload 2"
   ]
  },
  {
   "cell_type": "code",
   "execution_count": 48,
   "metadata": {},
   "outputs": [],
   "source": [
    "from pyvinyl.BaseCalculator import BaseCalculator, Parameters\n",
    "\n",
    "import os\n",
    "import h5py\n",
    "import numpy"
   ]
  },
  {
   "cell_type": "code",
   "execution_count": 49,
   "metadata": {},
   "outputs": [],
   "source": [
    "import sys"
   ]
  },
  {
   "cell_type": "code",
   "execution_count": 50,
   "metadata": {},
   "outputs": [],
   "source": [
    "sys.path.insert(0, '../tests/')"
   ]
  },
  {
   "cell_type": "code",
   "execution_count": 51,
   "metadata": {},
   "outputs": [],
   "source": [
    "from RandomImageCalculator import RandomImageCalculator"
   ]
  },
  {
   "cell_type": "markdown",
   "metadata": {},
   "source": [
    "## User interface "
   ]
  },
  {
   "cell_type": "markdown",
   "metadata": {},
   "source": [
    "### Setup the parameters"
   ]
  },
  {
   "cell_type": "code",
   "execution_count": 52,
   "metadata": {},
   "outputs": [],
   "source": [
    "parameters = Parameters(photon_energy=6e3, pulse_energy=1.0e-6, grid_size_x=128, grid_size_y=128)\n",
    "\n",
    "### Setup the calculator\n",
    "\n",
    "calculator  = RandomImageCalculator(parameters, output_path=\"out.h5\")\n",
    "\n",
    "### Run the backengine\n",
    "\n",
    "calculator.backengine()\n",
    "\n",
    "### Look at the data and store as hdf5\n",
    "\n",
    "calculator.data\n",
    "\n",
    "calculator._BaseCalculator__data\n",
    "\n",
    "calculator.saveH5(calculator.output_path)\n",
    "\n",
    "### Save the parameters to a human readable json file.\n",
    "\n",
    "parameters.to_json(\"my_parameters.json\")\n",
    "\n",
    "### Save calculator to binary dump.\n",
    "\n",
    "dumpfile = calculator.dump()\n",
    "\n",
    "### Load back parameters\n",
    "\n",
    "new_parameters = Parameters.from_json(\"my_parameters.json\")\n",
    "\n",
    "new_parameters.photon_energy\n",
    "\n",
    "\n",
    "reloaded_calculator = SpecializedCalculator(dumpfile=dumpfile)\n",
    "\n",
    "reloaded_calculator.data\n",
    "\n",
    "reloaded_calculator.parameters.photon_energy"
   ]
  },
  {
   "cell_type": "code",
   "execution_count": 56,
   "metadata": {},
   "outputs": [
    {
     "name": "stdout",
     "output_type": "stream",
     "text": [
      "demo_pyvinyl.ipynb  my_parameters.json\tout.h5\ttmp3i6eiyis\r\n"
     ]
    }
   ],
   "source": [
    "!ls"
   ]
  },
  {
   "cell_type": "code",
   "execution_count": null,
   "metadata": {},
   "outputs": [],
   "source": []
  }
 ],
 "metadata": {
  "kernelspec": {
   "display_name": "Python 3",
   "language": "python",
   "name": "python3"
  },
  "language_info": {
   "codemirror_mode": {
    "name": "ipython",
    "version": 3
   },
   "file_extension": ".py",
   "mimetype": "text/x-python",
   "name": "python",
   "nbconvert_exporter": "python",
   "pygments_lexer": "ipython3",
   "version": "3.8.5"
  }
 },
 "nbformat": 4,
 "nbformat_minor": 4
}
