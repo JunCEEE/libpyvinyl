{
 "cells": [
  {
   "cell_type": "markdown",
   "metadata": {},
   "source": [
    "# Demo of the pyvinyl API "
   ]
  },
  {
   "cell_type": "markdown",
   "metadata": {},
   "source": [
    "## Imports "
   ]
  },
  {
   "cell_type": "code",
   "execution_count": 1,
   "metadata": {},
   "outputs": [],
   "source": [
    "from pyvinyl.BaseCalculator import BaseCalculator, Parameters, SpecializedCalculator, SpecializedParameters\n",
    "\n",
    "import os\n",
    "import h5py\n",
    "import numpy"
   ]
  },
  {
   "cell_type": "markdown",
   "metadata": {},
   "source": [
    "## Derive a calculator (developers only) "
   ]
  },
  {
   "cell_type": "code",
   "execution_count": 18,
   "metadata": {},
   "outputs": [],
   "source": [
    "class MyDiffractionCalculator(BaseCalculator):\n",
    "    def __init__(self, parameters=None, dumpfile=None, input_path=None, output_path=None):\n",
    "        \n",
    "        super().__init__(parameters=parameters, dumpfile=dumpfile, output_path=output_path)\n",
    "               \n",
    "    def backengine(self):\n",
    "        self._BaseCalculator__data = numpy.random.random((self.parameters.grid_size_x, self.parameters.grid_size_y))\n",
    "            \n",
    "        return 0\n",
    "    \n",
    "    def saveH5(self, openpmd=False):\n",
    "        with h5py.File(self.output_path, \"w\") as h5:\n",
    "            ds = h5.create_dataset(\"/data\", data=self.data)    \n",
    "            \n",
    "            h5.close()"
   ]
  },
  {
   "cell_type": "markdown",
   "metadata": {},
   "source": [
    "## User interface "
   ]
  },
  {
   "cell_type": "markdown",
   "metadata": {},
   "source": [
    "### Setup the parameters"
   ]
  },
  {
   "cell_type": "code",
   "execution_count": 2,
   "metadata": {},
   "outputs": [],
   "source": [
    "parameters = Parameters(photon_energy=6e3, pulse_energy=1.0e-6)"
   ]
  },
  {
   "cell_type": "markdown",
   "metadata": {},
   "source": [
    "### Setup the calculator"
   ]
  },
  {
   "cell_type": "code",
   "execution_count": 3,
   "metadata": {},
   "outputs": [],
   "source": [
    "calculator  = SpecializedCalculator(parameters, output_path=\"out.h5\")"
   ]
  },
  {
   "cell_type": "markdown",
   "metadata": {},
   "source": [
    "### Run the backengine"
   ]
  },
  {
   "cell_type": "code",
   "execution_count": 4,
   "metadata": {},
   "outputs": [
    {
     "data": {
      "text/plain": [
       "0"
      ]
     },
     "execution_count": 4,
     "metadata": {},
     "output_type": "execute_result"
    }
   ],
   "source": [
    "calculator.backengine()"
   ]
  },
  {
   "cell_type": "markdown",
   "metadata": {},
   "source": [
    "### Look at the data and store as hdf5"
   ]
  },
  {
   "cell_type": "code",
   "execution_count": 5,
   "metadata": {},
   "outputs": [
    {
     "data": {
      "text/plain": [
       "array([5992.01489641, 5997.84530298, 5991.03903923, 5994.36783695,\n",
       "       5988.8715074 , 6003.62830816, 6005.48814526, 6009.75909514,\n",
       "       6000.59870643, 5998.4991103 , 6005.64744993, 5991.47746049,\n",
       "       5986.18480169, 5997.40146056, 6001.19280104, 5993.61045243,\n",
       "       5995.37306704, 6004.19224894, 6000.62518339, 5995.83181849,\n",
       "       6001.8729473 , 6000.11744915, 6000.94636887, 6007.15720886,\n",
       "       5991.28173537, 6004.51285704, 5998.48850871, 6002.20036818,\n",
       "       5993.99089004, 6008.32781674, 6002.23350108, 5992.2889485 ,\n",
       "       6007.52799854, 5998.55653767, 5988.31455808, 5999.4424241 ,\n",
       "       6005.01499803, 6001.68411022, 5998.72191136, 6006.59809468,\n",
       "       6010.59736944, 6000.61683119, 6007.96054095, 6016.7838704 ,\n",
       "       5993.22348974, 6010.02888825, 6010.9219249 , 5997.37328407,\n",
       "       6004.77088049, 5999.32331289, 6000.30479769, 5995.55794447,\n",
       "       6003.837682  , 5999.20963758, 5996.42640592, 5994.66716366,\n",
       "       5986.91546127, 6009.84042057, 5991.31618138, 5996.46806183,\n",
       "       6009.40179507, 5993.21930773, 5992.81524544, 5997.41985553,\n",
       "       5998.98111548, 5992.80233753, 5994.33893573, 5998.27624446,\n",
       "       6004.14019798, 5988.01533087, 5997.64253977, 5989.64690309,\n",
       "       5998.57055369, 6006.41078165, 6000.11790991, 5990.7720617 ,\n",
       "       6000.73753436, 5997.50985766, 5998.56808904, 6005.74305318,\n",
       "       5994.16079862, 6003.17645093, 6000.6304759 , 6011.50704158,\n",
       "       5994.45042924, 6010.51982054, 5994.84579216, 5996.3332648 ,\n",
       "       6004.1318997 , 5998.64096955, 6000.49773616, 6001.32777195,\n",
       "       6005.06970301, 5996.75818308, 5999.36316971, 5995.96527657,\n",
       "       6002.01163825, 5998.41702001, 5991.84729513, 5997.95522886])"
      ]
     },
     "execution_count": 5,
     "metadata": {},
     "output_type": "execute_result"
    }
   ],
   "source": [
    "calculator.data"
   ]
  },
  {
   "cell_type": "code",
   "execution_count": 6,
   "metadata": {},
   "outputs": [],
   "source": [
    "calculator.saveH5(calculator.output_path)"
   ]
  },
  {
   "cell_type": "markdown",
   "metadata": {},
   "source": [
    "### Save the parameters to a human readable json file."
   ]
  },
  {
   "cell_type": "code",
   "execution_count": 7,
   "metadata": {},
   "outputs": [],
   "source": [
    "parameters.to_json(\"my_parameters.json\")"
   ]
  },
  {
   "cell_type": "markdown",
   "metadata": {},
   "source": [
    "### Save calculator to binary dump."
   ]
  },
  {
   "cell_type": "code",
   "execution_count": 8,
   "metadata": {},
   "outputs": [],
   "source": [
    "dumpfile = calculator.dump()"
   ]
  },
  {
   "cell_type": "markdown",
   "metadata": {},
   "source": [
    "### Load back parameters"
   ]
  },
  {
   "cell_type": "code",
   "execution_count": 9,
   "metadata": {},
   "outputs": [],
   "source": [
    "new_parameters = Parameters.from_json(\"my_parameters.json\")"
   ]
  },
  {
   "cell_type": "code",
   "execution_count": 10,
   "metadata": {},
   "outputs": [
    {
     "data": {
      "text/plain": [
       "6000.0"
      ]
     },
     "execution_count": 10,
     "metadata": {},
     "output_type": "execute_result"
    }
   ],
   "source": [
    "new_parameters.photon_energy"
   ]
  },
  {
   "cell_type": "code",
   "execution_count": 11,
   "metadata": {},
   "outputs": [],
   "source": [
    "\n",
    "reloaded_calculator = SpecializedCalculator(dumpfile=dumpfile)"
   ]
  },
  {
   "cell_type": "code",
   "execution_count": 12,
   "metadata": {},
   "outputs": [
    {
     "data": {
      "text/plain": [
       "array([5992.01489641, 5997.84530298, 5991.03903923, 5994.36783695,\n",
       "       5988.8715074 , 6003.62830816, 6005.48814526, 6009.75909514,\n",
       "       6000.59870643, 5998.4991103 , 6005.64744993, 5991.47746049,\n",
       "       5986.18480169, 5997.40146056, 6001.19280104, 5993.61045243,\n",
       "       5995.37306704, 6004.19224894, 6000.62518339, 5995.83181849,\n",
       "       6001.8729473 , 6000.11744915, 6000.94636887, 6007.15720886,\n",
       "       5991.28173537, 6004.51285704, 5998.48850871, 6002.20036818,\n",
       "       5993.99089004, 6008.32781674, 6002.23350108, 5992.2889485 ,\n",
       "       6007.52799854, 5998.55653767, 5988.31455808, 5999.4424241 ,\n",
       "       6005.01499803, 6001.68411022, 5998.72191136, 6006.59809468,\n",
       "       6010.59736944, 6000.61683119, 6007.96054095, 6016.7838704 ,\n",
       "       5993.22348974, 6010.02888825, 6010.9219249 , 5997.37328407,\n",
       "       6004.77088049, 5999.32331289, 6000.30479769, 5995.55794447,\n",
       "       6003.837682  , 5999.20963758, 5996.42640592, 5994.66716366,\n",
       "       5986.91546127, 6009.84042057, 5991.31618138, 5996.46806183,\n",
       "       6009.40179507, 5993.21930773, 5992.81524544, 5997.41985553,\n",
       "       5998.98111548, 5992.80233753, 5994.33893573, 5998.27624446,\n",
       "       6004.14019798, 5988.01533087, 5997.64253977, 5989.64690309,\n",
       "       5998.57055369, 6006.41078165, 6000.11790991, 5990.7720617 ,\n",
       "       6000.73753436, 5997.50985766, 5998.56808904, 6005.74305318,\n",
       "       5994.16079862, 6003.17645093, 6000.6304759 , 6011.50704158,\n",
       "       5994.45042924, 6010.51982054, 5994.84579216, 5996.3332648 ,\n",
       "       6004.1318997 , 5998.64096955, 6000.49773616, 6001.32777195,\n",
       "       6005.06970301, 5996.75818308, 5999.36316971, 5995.96527657,\n",
       "       6002.01163825, 5998.41702001, 5991.84729513, 5997.95522886])"
      ]
     },
     "execution_count": 12,
     "metadata": {},
     "output_type": "execute_result"
    }
   ],
   "source": [
    "reloaded_calculator.data"
   ]
  },
  {
   "cell_type": "code",
   "execution_count": 13,
   "metadata": {},
   "outputs": [
    {
     "data": {
      "text/plain": [
       "6000.0"
      ]
     },
     "execution_count": 13,
     "metadata": {},
     "output_type": "execute_result"
    }
   ],
   "source": [
    "reloaded_calculator.parameters.photon_energy"
   ]
  }
 ],
 "metadata": {
  "kernelspec": {
   "display_name": "Python 3",
   "language": "python",
   "name": "python3"
  },
  "language_info": {
   "codemirror_mode": {
    "name": "ipython",
    "version": 3
   },
   "file_extension": ".py",
   "mimetype": "text/x-python",
   "name": "python",
   "nbconvert_exporter": "python",
   "pygments_lexer": "ipython3",
   "version": "3.8.2"
  }
 },
 "nbformat": 4,
 "nbformat_minor": 4
}
